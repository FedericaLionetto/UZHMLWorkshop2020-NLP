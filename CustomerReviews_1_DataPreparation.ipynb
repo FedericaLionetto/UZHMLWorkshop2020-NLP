{
 "cells": [
  {
   "cell_type": "markdown",
   "metadata": {},
   "source": [
    "# A Machine Learning journey from customer reviews to business insights\n",
    "# *Part 1: Data preparation*\n",
    "\n",
    "*Author: Federica Lionetto*  \n",
    "*Email: federica.lionetto@gmail.com*  \n",
    "*Date: 17 November 2020*  \n",
    "*License: Creative Commons BY-NC-SA*\n",
    "\n",
    "*Based on the dataset available at:*\n",
    "- https://www.kaggle.com/efehandanisman/skytrax-airline-reviews\n",
    "\n",
    "### First dataset in brief\n",
    "\n",
    "The first dataset is scraped from Skytrax (https://www.airlinequality.com), an international air transport rating organization based in the UK, whose mission is to improve the customer experience for airlines and airports across the world.  \n",
    "The dataset consists of individual reviews left by verified customers of most of the major airlines across the world and can be downloaded from https://www.kaggle.com/efehandanisman/skytrax-airline-reviews.  \n",
    "\n",
    "An individual review contains part or all of the following information:\n",
    "- **author**\n",
    "- **review date**\n",
    "- **route**\n",
    "- **date flown**\n",
    "- **type of traveller**\n",
    "- **service class**\n",
    "- **overall score** of the travel experience\n",
    "- **subscores** related to specific aspects of the travel experience, in particular:\n",
    "  - food and beverage\n",
    "  - seat comfort \n",
    "  - cabin service \n",
    "  - ground service\n",
    "  - entertainment\n",
    "  - value for money\n",
    "- **whether the customer would recommend the travel experience to other customers**\n",
    "- **comments** in a free text format\n",
    "\n",
    "### Further readings\n",
    "\n",
    "- \"What can we learn from five-star airlines: a web scraping project from Skytrax\", https://nycdatascience.com/blog/student-works/web-scraping/what-can-we-learn-from-five-star-airlines-a-web-scraping-project-from-skytrax/\n"
   ]
  },
  {
   "cell_type": "markdown",
   "metadata": {},
   "source": [
    "## 1 - Import modules and helper functions"
   ]
  },
  {
   "cell_type": "code",
   "execution_count": null,
   "metadata": {},
   "outputs": [],
   "source": [
    "import numpy as np\n",
    "import pandas as pd\n",
    "import matplotlib.pyplot as plt\n",
    "import seaborn as sns\n",
    "sns.set_palette('Set2')\n",
    "\n",
    "import datetime as dt\n",
    "import dateutil\n",
    "\n",
    "import importlib"
   ]
  },
  {
   "cell_type": "code",
   "execution_count": null,
   "metadata": {},
   "outputs": [],
   "source": [
    "# Debugging capabilities.\n",
    "import pdb"
   ]
  },
  {
   "cell_type": "code",
   "execution_count": null,
   "metadata": {},
   "outputs": [],
   "source": [
    "import sys  \n",
    "sys.path.insert(0, './helper_functions')"
   ]
  },
  {
   "cell_type": "code",
   "execution_count": null,
   "metadata": {},
   "outputs": [],
   "source": [
    "# Related to review date.\n",
    "import get_review_date_timestamp\n",
    "import get_review_date_day, get_review_date_month, get_review_date_year\n",
    "import get_review_date_sec_epoch\n",
    "\n",
    "# Related to date flown. \n",
    "import get_date_flown_timestamp\n",
    "import get_date_flown_day, get_date_flown_month, get_date_flown_year\n",
    "import get_date_flown_sec_epoch\n",
    "\n",
    "# Related to review date and date flown.\n",
    "import get_review_date_date_flown_distance_days\n",
    "\n",
    "# Related to route.\n",
    "import has_layover\n",
    "import get_origin\n",
    "import get_destination\n",
    "import get_layover\n",
    "\n",
    "# Related to review text.\n",
    "import get_review_characters, get_review_words\n",
    "\n",
    "# Related to review score.\n",
    "import get_pos_neu_neg_review_score\n",
    "\n",
    "# Related to recommendation.\n",
    "import assign_label_recommended\n",
    "import get_recommendation_bool\n",
    "\n",
    "# Related to missing values.\n",
    "import get_completeness\n",
    "\n",
    "# Related to visualization.\n",
    "import plot_hist\n",
    "import plot_hist_sns\n",
    "import plot_two_hists_comp_sns\n",
    "import plot_bar\n",
    "import plot_grouped_box\n",
    "import plot_cmap"
   ]
  },
  {
   "cell_type": "markdown",
   "metadata": {},
   "source": [
    "## 2 - Load the input data"
   ]
  },
  {
   "cell_type": "code",
   "execution_count": null,
   "metadata": {},
   "outputs": [],
   "source": [
    "# Type of each field in the input data.\n",
    "df_dtype = {'airline':str,\n",
    "            'overall':'Int64',\n",
    "            'author':str,\n",
    "            'review_date':str,\n",
    "            'customer_review':str,\n",
    "            'aircraft':str,\n",
    "            'traveller_type':str,\n",
    "            'cabin':str,\n",
    "            'route':str,\n",
    "            'date_flown':str,\n",
    "            'seat_comfort':'Int64',\n",
    "            'cabin_service':'Int64',\n",
    "            'food_bev':'Int64',\n",
    "            'entertainment':'Int64',\n",
    "            'ground_service':'Int64',\n",
    "            'value_for_money':'Int64',\n",
    "            'recommended':str,\n",
    "           }"
   ]
  },
  {
   "cell_type": "code",
   "execution_count": null,
   "metadata": {},
   "outputs": [],
   "source": [
    "df = pd.read_excel('../Data/capstone_airline_reviews3.xlsx', dtype=df_dtype)"
   ]
  },
  {
   "cell_type": "code",
   "execution_count": null,
   "metadata": {
    "scrolled": true
   },
   "outputs": [],
   "source": [
    "df.head()"
   ]
  },
  {
   "cell_type": "code",
   "execution_count": null,
   "metadata": {
    "scrolled": true
   },
   "outputs": [],
   "source": [
    "df.shape"
   ]
  },
  {
   "cell_type": "markdown",
   "metadata": {},
   "source": [
    "Get the names of the colums in the dataset."
   ]
  },
  {
   "cell_type": "code",
   "execution_count": null,
   "metadata": {},
   "outputs": [],
   "source": [
    "cols = df.columns.to_list()\n",
    "print('Columns in the dataset:')\n",
    "print(cols)"
   ]
  },
  {
   "cell_type": "markdown",
   "metadata": {},
   "source": [
    "Get the total number of customer reviews in the dataset."
   ]
  },
  {
   "cell_type": "code",
   "execution_count": null,
   "metadata": {},
   "outputs": [],
   "source": [
    "n_reviews = df.shape[0]\n",
    "print('Number of customer reviews in the dataset: {:d}'.format(n_reviews))"
   ]
  },
  {
   "cell_type": "markdown",
   "metadata": {},
   "source": [
    "## 3 - Quick fixes of the input data"
   ]
  },
  {
   "cell_type": "markdown",
   "metadata": {},
   "source": [
    "**DISCUSSION**:  \n",
    "*Spend the next 5-10 minutes looking at the dataset and writing down all aspects related to data quality that, in your opinion, should be taken into account before using the dataset for training a Machine Learning model.*"
   ]
  },
  {
   "cell_type": "markdown",
   "metadata": {},
   "source": [
    "### 3.1 - Text of the customer review"
   ]
  },
  {
   "cell_type": "markdown",
   "metadata": {},
   "source": [
    "The preview of the dataset shows that the customer review field usually starts with a special character and a default text, followed by the same information displayed in the route field. We can strip this information away from the customer review field as it does not add any additional value. "
   ]
  },
  {
   "cell_type": "code",
   "execution_count": null,
   "metadata": {},
   "outputs": [],
   "source": [
    "df[['customer_review','route']].head()"
   ]
  },
  {
   "cell_type": "code",
   "execution_count": null,
   "metadata": {},
   "outputs": [],
   "source": [
    "df.iloc[1,:]['customer_review']"
   ]
  },
  {
   "cell_type": "code",
   "execution_count": null,
   "metadata": {},
   "outputs": [],
   "source": [
    "df.iloc[1,:]['route']"
   ]
  },
  {
   "cell_type": "code",
   "execution_count": null,
   "metadata": {},
   "outputs": [],
   "source": [
    "df_quick_fixes = df.copy()"
   ]
  },
  {
   "cell_type": "code",
   "execution_count": null,
   "metadata": {},
   "outputs": [],
   "source": [
    "# Split the string by the first occurrence of '.' and get the second part of the string.\n",
    "df_quick_fixes['customer_review_clean'] = df_quick_fixes['customer_review'].str.split('.',n=1,expand=True)[1]"
   ]
  },
  {
   "cell_type": "code",
   "execution_count": null,
   "metadata": {},
   "outputs": [],
   "source": [
    "df_quick_fixes['customer_review_clean'].head()"
   ]
  },
  {
   "cell_type": "code",
   "execution_count": null,
   "metadata": {},
   "outputs": [],
   "source": [
    "df_quick_fixes.drop(columns=['customer_review'], inplace=True)"
   ]
  },
  {
   "cell_type": "code",
   "execution_count": null,
   "metadata": {},
   "outputs": [],
   "source": [
    "df_quick_fixes.head()"
   ]
  },
  {
   "cell_type": "markdown",
   "metadata": {},
   "source": [
    "### 3.2 - Rename and drop columns"
   ]
  },
  {
   "cell_type": "markdown",
   "metadata": {},
   "source": [
    "For simplicity, we rename some of the fields."
   ]
  },
  {
   "cell_type": "code",
   "execution_count": null,
   "metadata": {},
   "outputs": [],
   "source": [
    "df_quick_fixes.rename(columns={'overall':'review_score', 'customer_review_clean':'review_text'}, inplace=True)"
   ]
  },
  {
   "cell_type": "markdown",
   "metadata": {},
   "source": [
    "We drop the author field as it is not relevant for our use case."
   ]
  },
  {
   "cell_type": "code",
   "execution_count": null,
   "metadata": {},
   "outputs": [],
   "source": [
    "df_quick_fixes.drop(columns=['author'], inplace=True)"
   ]
  },
  {
   "cell_type": "code",
   "execution_count": null,
   "metadata": {
    "scrolled": true
   },
   "outputs": [],
   "source": [
    "df_quick_fixes.head()"
   ]
  },
  {
   "cell_type": "markdown",
   "metadata": {},
   "source": [
    "## 4 - Feature engineering\n",
    "\n",
    "We add new features to the dataset in view of model training and testing."
   ]
  },
  {
   "cell_type": "code",
   "execution_count": null,
   "metadata": {},
   "outputs": [],
   "source": [
    "df_aug = df_quick_fixes.copy()"
   ]
  },
  {
   "cell_type": "markdown",
   "metadata": {},
   "source": [
    "### 4.1 - Handling of dates\n",
    "\n",
    "What is the format of the review date and date flown?  \n",
    "Can we add any feature related to dates that could be used in a Machine Learning model?"
   ]
  },
  {
   "cell_type": "code",
   "execution_count": null,
   "metadata": {},
   "outputs": [],
   "source": [
    "df_aug[['review_date','date_flown']].dtypes"
   ]
  },
  {
   "cell_type": "code",
   "execution_count": null,
   "metadata": {
    "scrolled": true
   },
   "outputs": [],
   "source": [
    "df_aug[['review_date','date_flown']].head()"
   ]
  },
  {
   "cell_type": "markdown",
   "metadata": {},
   "source": [
    "The following features are added to the dataset:\n",
    "- `review_date_timestamp`\n",
    "- `review_date_day`\n",
    "- `review_date_month`\n",
    "- `review_date_year`\n",
    "- `review_date_sec_epoch`\n",
    "- `date_flown_timestamp`\n",
    "- `date_flown_day`\n",
    "- `date_flown_month`\n",
    "- `date_flown_year`\n",
    "- `date_flown_sec_epoch`\n",
    "- `review_date_date_flown_distance_days`"
   ]
  },
  {
   "cell_type": "markdown",
   "metadata": {},
   "source": [
    "#### Review date"
   ]
  },
  {
   "cell_type": "code",
   "execution_count": null,
   "metadata": {},
   "outputs": [],
   "source": [
    "df_aug['review_date'].head()"
   ]
  },
  {
   "cell_type": "code",
   "execution_count": null,
   "metadata": {},
   "outputs": [],
   "source": [
    "# Add new features.\n",
    "df_aug['review_date_timestamp'] = df_aug.apply(lambda x: get_review_date_timestamp.get_review_date_timestamp(x), axis=1)"
   ]
  },
  {
   "cell_type": "code",
   "execution_count": null,
   "metadata": {},
   "outputs": [],
   "source": [
    "df_aug[['review_date','review_date_timestamp']].head()"
   ]
  },
  {
   "cell_type": "code",
   "execution_count": null,
   "metadata": {},
   "outputs": [],
   "source": [
    "df_aug['review_date_timestamp'].min()"
   ]
  },
  {
   "cell_type": "code",
   "execution_count": null,
   "metadata": {},
   "outputs": [],
   "source": [
    "df_aug['review_date_timestamp'].max()"
   ]
  },
  {
   "cell_type": "code",
   "execution_count": null,
   "metadata": {},
   "outputs": [],
   "source": [
    "# Add new features.\n",
    "df_aug['review_date_day'] = df_aug.apply(lambda x: get_review_date_day.get_review_date_day(x),axis=1)\n",
    "df_aug['review_date_month'] = df_aug.apply(lambda x: get_review_date_month.get_review_date_month(x),axis=1)\n",
    "df_aug['review_date_year'] = df_aug.apply(lambda x: get_review_date_year.get_review_date_year(x),axis=1)"
   ]
  },
  {
   "cell_type": "code",
   "execution_count": null,
   "metadata": {
    "scrolled": true
   },
   "outputs": [],
   "source": [
    "df_aug[['review_date','review_date_timestamp','review_date_day','review_date_month','review_date_year']].head()"
   ]
  },
  {
   "cell_type": "code",
   "execution_count": null,
   "metadata": {},
   "outputs": [],
   "source": [
    "# Add new features.\n",
    "df_aug['review_date_sec_epoch'] = df_aug.apply(lambda x: get_review_date_sec_epoch.get_review_date_sec_epoch(x),axis=1)"
   ]
  },
  {
   "cell_type": "code",
   "execution_count": null,
   "metadata": {},
   "outputs": [],
   "source": [
    "df_aug[['review_date','review_date_timestamp','review_date_day','review_date_month','review_date_year','review_date_sec_epoch']].head()"
   ]
  },
  {
   "cell_type": "markdown",
   "metadata": {},
   "source": [
    "#### Date flown"
   ]
  },
  {
   "cell_type": "code",
   "execution_count": null,
   "metadata": {},
   "outputs": [],
   "source": [
    "df_aug['date_flown'].head()"
   ]
  },
  {
   "cell_type": "code",
   "execution_count": null,
   "metadata": {},
   "outputs": [],
   "source": [
    "# Add new features.\n",
    "df_aug['date_flown_timestamp'] = df_aug.apply(lambda x: get_date_flown_timestamp.get_date_flown_timestamp(x), axis=1)"
   ]
  },
  {
   "cell_type": "code",
   "execution_count": null,
   "metadata": {},
   "outputs": [],
   "source": [
    "df_aug[['date_flown','date_flown_timestamp']].head()"
   ]
  },
  {
   "cell_type": "code",
   "execution_count": null,
   "metadata": {},
   "outputs": [],
   "source": [
    "# Add new features.\n",
    "df_aug['date_flown_day'] = df_aug.apply(lambda x: get_date_flown_day.get_date_flown_day(x),axis=1)\n",
    "df_aug['date_flown_month'] = df_aug.apply(lambda x: get_date_flown_month.get_date_flown_month(x),axis=1)\n",
    "df_aug['date_flown_year'] = df_aug.apply(lambda x: get_date_flown_year.get_date_flown_year(x),axis=1)"
   ]
  },
  {
   "cell_type": "code",
   "execution_count": null,
   "metadata": {
    "scrolled": true
   },
   "outputs": [],
   "source": [
    "df_aug[['date_flown','date_flown_timestamp','date_flown_day','date_flown_month','date_flown_year']].head()"
   ]
  },
  {
   "cell_type": "code",
   "execution_count": null,
   "metadata": {},
   "outputs": [],
   "source": [
    "# Add new features.\n",
    "df_aug['date_flown_sec_epoch'] = df_aug.apply(lambda x: get_date_flown_sec_epoch.get_date_flown_sec_epoch(x),axis=1)"
   ]
  },
  {
   "cell_type": "code",
   "execution_count": null,
   "metadata": {},
   "outputs": [],
   "source": [
    "df_aug[['date_flown','date_flown_timestamp','date_flown_day','date_flown_month','date_flown_year','date_flown_sec_epoch']].head()"
   ]
  },
  {
   "cell_type": "markdown",
   "metadata": {},
   "source": [
    "#### Time distance in days between review date and date flown"
   ]
  },
  {
   "cell_type": "code",
   "execution_count": null,
   "metadata": {},
   "outputs": [],
   "source": [
    "# Add new features.\n",
    "df_aug['review_date_date_flown_distance_days'] = df_aug.apply(lambda x: get_review_date_date_flown_distance_days.get_review_date_date_flown_distance_days(x),axis=1)"
   ]
  },
  {
   "cell_type": "code",
   "execution_count": null,
   "metadata": {},
   "outputs": [],
   "source": [
    "df_aug['review_date_date_flown_distance_days'].dtype"
   ]
  },
  {
   "cell_type": "code",
   "execution_count": null,
   "metadata": {},
   "outputs": [],
   "source": [
    "df_aug[['date_flown_timestamp','review_date_timestamp','review_date_date_flown_distance_days']].head()"
   ]
  },
  {
   "cell_type": "markdown",
   "metadata": {},
   "source": [
    "### 4.2 - Customer review completeness"
   ]
  },
  {
   "cell_type": "markdown",
   "metadata": {},
   "source": [
    "The following feature is added to the dataset:\n",
    "- `is_complete`  \n",
    "\n",
    "This feature tells us if the customer review is complete, that is, if all the fields contain some information."
   ]
  },
  {
   "cell_type": "code",
   "execution_count": null,
   "metadata": {},
   "outputs": [],
   "source": [
    "# Add new features.\n",
    "df_aug['is_complete'] = df_aug.apply(lambda x: get_completeness.get_completeness(x),axis=1)"
   ]
  },
  {
   "cell_type": "code",
   "execution_count": null,
   "metadata": {},
   "outputs": [],
   "source": [
    "df_aug['is_complete'].dtype"
   ]
  },
  {
   "cell_type": "code",
   "execution_count": null,
   "metadata": {},
   "outputs": [],
   "source": [
    "df_aug['is_complete'].head()"
   ]
  },
  {
   "cell_type": "markdown",
   "metadata": {},
   "source": [
    "### 4.3 - Customer review length"
   ]
  },
  {
   "cell_type": "markdown",
   "metadata": {},
   "source": [
    "The following features are added to the dataset:\n",
    "- `review_characters`, which corresponds to the number of characters in the customer review\n",
    "- `review_words`, which corresponds to the number of words in the customer review"
   ]
  },
  {
   "cell_type": "code",
   "execution_count": null,
   "metadata": {},
   "outputs": [],
   "source": [
    "df_aug['review_text'][3]"
   ]
  },
  {
   "cell_type": "code",
   "execution_count": null,
   "metadata": {},
   "outputs": [],
   "source": [
    "# Add new features.\n",
    "df_aug['review_characters'] = df_aug.apply(lambda x: get_review_characters.get_review_characters(x),axis=1)\n",
    "df_aug['review_words'] = df_aug.apply(lambda x: get_review_words.get_review_words(x),axis=1)"
   ]
  },
  {
   "cell_type": "code",
   "execution_count": null,
   "metadata": {},
   "outputs": [],
   "source": [
    "df_aug['review_characters'].head()"
   ]
  },
  {
   "cell_type": "code",
   "execution_count": null,
   "metadata": {},
   "outputs": [],
   "source": [
    "df_aug['review_words'].head()"
   ]
  },
  {
   "cell_type": "markdown",
   "metadata": {},
   "source": [
    "### 4.4 - Review score category"
   ]
  },
  {
   "cell_type": "markdown",
   "metadata": {},
   "source": [
    "The following feature is added to the dataset:\n",
    "- `pos_neu_neg_review_score`\n",
    "\n",
    "This feature has three possible values:\n",
    "- `neg`, which stands for negative, if the review score is between 1 and 4\n",
    "- `neu`, which stands for neutral, if the review score is between 5 and 6\n",
    "- `pos`, which stands for positive, if the review score is between 7 and 10"
   ]
  },
  {
   "cell_type": "code",
   "execution_count": null,
   "metadata": {},
   "outputs": [],
   "source": [
    "df_aug['review_score'].unique()"
   ]
  },
  {
   "cell_type": "code",
   "execution_count": null,
   "metadata": {},
   "outputs": [],
   "source": [
    "df_aug['review_score'].describe()"
   ]
  },
  {
   "cell_type": "code",
   "execution_count": null,
   "metadata": {},
   "outputs": [],
   "source": [
    "# Add new features.\n",
    "df_aug['pos_neu_neg_review_score'] = df_aug.apply(lambda x: get_pos_neu_neg_review_score.get_pos_neu_neg_review_score(x),axis=1)"
   ]
  },
  {
   "cell_type": "code",
   "execution_count": null,
   "metadata": {},
   "outputs": [],
   "source": [
    "df_aug['pos_neu_neg_review_score'].dtype"
   ]
  },
  {
   "cell_type": "code",
   "execution_count": null,
   "metadata": {
    "scrolled": false
   },
   "outputs": [],
   "source": [
    "df_aug[['review_score','pos_neu_neg_review_score']].head()"
   ]
  },
  {
   "cell_type": "markdown",
   "metadata": {},
   "source": [
    "### 4.5 - Consolidation of aircraft names\n",
    "\n",
    "**DISCUSSION**:  \n",
    "*How would you consolidate the aircraft names?*"
   ]
  },
  {
   "cell_type": "code",
   "execution_count": null,
   "metadata": {},
   "outputs": [],
   "source": [
    "print('Number of unique values: {:d}'.format(df_aug['aircraft'].nunique()))\n",
    "df_aug.groupby(['aircraft']).size().sort_values(ascending=False).reset_index(name='frequency')"
   ]
  },
  {
   "cell_type": "markdown",
   "metadata": {},
   "source": [
    "For simplicity, we drop the feature `aircraft`."
   ]
  },
  {
   "cell_type": "code",
   "execution_count": null,
   "metadata": {},
   "outputs": [],
   "source": [
    "df_aug.drop(columns=['aircraft'],inplace=True)"
   ]
  },
  {
   "cell_type": "markdown",
   "metadata": {},
   "source": [
    "### 4.6 - Consolidation of route names\n",
    "\n",
    "**DISCUSSION**:  \n",
    "*How would you consolidate the route names?  \n",
    "Could you engineer some new features corresponding to origin and destination airports, as well as layovers?  \n",
    "How would you do it in a \"smart\" way (no brute force approaches)?*"
   ]
  },
  {
   "cell_type": "code",
   "execution_count": null,
   "metadata": {},
   "outputs": [],
   "source": [
    "df_aug['route'].head()"
   ]
  },
  {
   "cell_type": "code",
   "execution_count": null,
   "metadata": {},
   "outputs": [],
   "source": [
    "df_aug['origin'] = df_aug.apply(lambda x: get_origin.get_origin(x), axis=1)\n",
    "df_aug['destination'] = df_aug.apply(lambda x: get_destination.get_destination(x), axis=1)\n",
    "df_aug['layover'] = df_aug.apply(lambda x: get_layover.get_layover(x), axis=1)"
   ]
  },
  {
   "cell_type": "code",
   "execution_count": null,
   "metadata": {},
   "outputs": [],
   "source": [
    "df_aug[['route','origin','destination','layover']].head()"
   ]
  },
  {
   "cell_type": "code",
   "execution_count": null,
   "metadata": {},
   "outputs": [],
   "source": [
    "df_aug['has_layover'] = df_aug.apply(lambda x: has_layover.has_layover(x), axis=1)"
   ]
  },
  {
   "cell_type": "code",
   "execution_count": null,
   "metadata": {
    "scrolled": true
   },
   "outputs": [],
   "source": [
    "df_aug[['route','origin','destination','layover','has_layover']].head()"
   ]
  },
  {
   "cell_type": "code",
   "execution_count": null,
   "metadata": {},
   "outputs": [],
   "source": [
    "df_aug.shape"
   ]
  },
  {
   "cell_type": "code",
   "execution_count": null,
   "metadata": {},
   "outputs": [],
   "source": [
    "df_aug[df_aug['has_layover']==False].shape"
   ]
  },
  {
   "cell_type": "code",
   "execution_count": null,
   "metadata": {},
   "outputs": [],
   "source": [
    "df_aug[df_aug['has_layover']==True].shape"
   ]
  },
  {
   "cell_type": "code",
   "execution_count": null,
   "metadata": {},
   "outputs": [],
   "source": [
    "df_aug['origin'].unique().tolist()"
   ]
  },
  {
   "cell_type": "markdown",
   "metadata": {},
   "source": [
    "We can categorise the information specified in the route field into four different fields, corresponding to origin, destination, layover and whether the flight has a layover.  \n",
    "However, we see that origin, destination and layover are still written according to multiple formats, for example with the name of the city, with the name of the airport, or with the airport code. For the Machine Learning model, each way of writing the origin and destination represents a different entity, i.e. a different value of these features. In order to properly use these features within a Machine Learning model, we should first consolidate the possible values and make sure that one convention is followed throughout the dataset. This is out of scope for the current exercise, but it is important to keep it in mind."
   ]
  },
  {
   "cell_type": "markdown",
   "metadata": {},
   "source": [
    "We drop the features `route`, `origin`, `destination` and `layover`.  "
   ]
  },
  {
   "cell_type": "code",
   "execution_count": null,
   "metadata": {},
   "outputs": [],
   "source": [
    "df_aug.drop(columns=['route','origin','destination','layover'],inplace=True)"
   ]
  },
  {
   "cell_type": "markdown",
   "metadata": {},
   "source": [
    "### 4.7 - Recommendation"
   ]
  },
  {
   "cell_type": "code",
   "execution_count": null,
   "metadata": {
    "scrolled": true
   },
   "outputs": [],
   "source": [
    "df_aug['recommended'].unique()"
   ]
  },
  {
   "cell_type": "code",
   "execution_count": null,
   "metadata": {},
   "outputs": [],
   "source": [
    "df_aug['recommended_bool'] = df_aug.apply(lambda x: get_recommendation_bool.get_recommendation_bool(x), axis=1)"
   ]
  },
  {
   "cell_type": "code",
   "execution_count": null,
   "metadata": {},
   "outputs": [],
   "source": [
    "df_aug[['recommended','recommended_bool']].head()"
   ]
  },
  {
   "cell_type": "code",
   "execution_count": null,
   "metadata": {},
   "outputs": [],
   "source": [
    "df_aug.drop(columns=['recommended'], inplace=True)\n",
    "df_aug.rename(columns={'recommended_bool':'recommended'}, inplace=True)"
   ]
  },
  {
   "cell_type": "code",
   "execution_count": null,
   "metadata": {},
   "outputs": [],
   "source": [
    "df_aug.head()"
   ]
  },
  {
   "cell_type": "markdown",
   "metadata": {},
   "source": [
    "### 4.8 - A quick look at all the features"
   ]
  },
  {
   "cell_type": "code",
   "execution_count": null,
   "metadata": {},
   "outputs": [],
   "source": [
    "cols_aug = df_aug.columns.to_list()\n",
    "print('Columns in the augmented dataset:')\n",
    "print(cols_aug)"
   ]
  },
  {
   "cell_type": "code",
   "execution_count": null,
   "metadata": {},
   "outputs": [],
   "source": [
    "df_aug.head()"
   ]
  },
  {
   "cell_type": "code",
   "execution_count": null,
   "metadata": {},
   "outputs": [],
   "source": [
    "df_aug.drop(columns=['review_date','date_flown','review_date_timestamp','review_date_sec_epoch','date_flown_timestamp','date_flown_sec_epoch'], inplace=True)"
   ]
  },
  {
   "cell_type": "code",
   "execution_count": null,
   "metadata": {
    "scrolled": false
   },
   "outputs": [],
   "source": [
    "df_aug.head()"
   ]
  },
  {
   "cell_type": "markdown",
   "metadata": {},
   "source": [
    "## 5 - Filling rates\n",
    "\n",
    "Depending on which Machine Learning algorithm we plan to use, we might want to drop records that contain missing values.  \n",
    "As a first step, we look at the filling rates of each feature in the dataset, to get a feeling of what is available and how often."
   ]
  },
  {
   "cell_type": "markdown",
   "metadata": {},
   "source": [
    "### 5.1 - First iteration"
   ]
  },
  {
   "cell_type": "code",
   "execution_count": null,
   "metadata": {
    "scrolled": true
   },
   "outputs": [],
   "source": [
    "# Percentage of non-null values.\n",
    "filling_rates = 100.*df_aug.count().sort_values(ascending=False)/df_aug.shape[0]\n",
    "print(filling_rates)"
   ]
  },
  {
   "cell_type": "code",
   "execution_count": null,
   "metadata": {
    "scrolled": true
   },
   "outputs": [],
   "source": [
    "values_filling_rates = filling_rates.values\n",
    "# print(values_filling_rates)\n",
    "text_filling_rates = filling_rates.index.to_list()\n",
    "# print(text_filling_rates)"
   ]
  },
  {
   "cell_type": "code",
   "execution_count": null,
   "metadata": {},
   "outputs": [],
   "source": [
    "plt.figure(figsize=(6,6),dpi=100)\n",
    "sns.set(style=\"whitegrid\")\n",
    "ax = sns.barplot(x=values_filling_rates, y=text_filling_rates,color=\"Red\")\n",
    "ax.set(xlabel='Filling percentage (%)', ylabel='Feature')\n",
    "plt.tight_layout()\n",
    "plt.savefig('../Results/01/FillingRates1.png')\n",
    "plt.show()"
   ]
  },
  {
   "cell_type": "markdown",
   "metadata": {},
   "source": [
    "We notice that there is a subset of customer reviews for which both the airline and the review date are missing. These records will be dropped from our dataset as they likely indicate a data quality issue."
   ]
  },
  {
   "cell_type": "code",
   "execution_count": null,
   "metadata": {},
   "outputs": [],
   "source": [
    "df_aug[df_aug['airline'].notna()].shape"
   ]
  },
  {
   "cell_type": "code",
   "execution_count": null,
   "metadata": {},
   "outputs": [],
   "source": [
    "df_aug[df_aug['airline'].isna()].shape"
   ]
  },
  {
   "cell_type": "code",
   "execution_count": null,
   "metadata": {},
   "outputs": [],
   "source": [
    "df_without_na_1 = df_aug[df_aug['airline'].notna()].copy()"
   ]
  },
  {
   "cell_type": "code",
   "execution_count": null,
   "metadata": {},
   "outputs": [],
   "source": [
    "df_without_na_1.shape"
   ]
  },
  {
   "cell_type": "code",
   "execution_count": null,
   "metadata": {
    "scrolled": true
   },
   "outputs": [],
   "source": [
    "df_without_na_1.head()"
   ]
  },
  {
   "cell_type": "markdown",
   "metadata": {},
   "source": [
    "### 5.2 - Second iteration"
   ]
  },
  {
   "cell_type": "code",
   "execution_count": null,
   "metadata": {},
   "outputs": [],
   "source": [
    "# Percentage of non-null values.\n",
    "filling_rates_without_na_1 = 100.*df_without_na_1.count().sort_values(ascending=False)/df_without_na_1.shape[0]\n",
    "print(filling_rates_without_na_1)"
   ]
  },
  {
   "cell_type": "code",
   "execution_count": null,
   "metadata": {},
   "outputs": [],
   "source": [
    "values_filling_rates_without_na_1 = filling_rates_without_na_1.values\n",
    "# print(values_filling_rates)\n",
    "text_filling_rates_without_na_1 = filling_rates_without_na_1.index.to_list()\n",
    "# print(text_filling_rates)"
   ]
  },
  {
   "cell_type": "code",
   "execution_count": null,
   "metadata": {},
   "outputs": [],
   "source": [
    "plt.figure(figsize=(6,6),dpi=100)\n",
    "sns.set(style=\"whitegrid\")\n",
    "ax = sns.barplot(x=values_filling_rates_without_na_1, y=text_filling_rates_without_na_1,color=\"Red\")\n",
    "ax.set(xlabel='Filling percentage (%)', ylabel='Feature')\n",
    "plt.tight_layout()\n",
    "plt.savefig('../Results/01/FillingRates2.png')\n",
    "plt.show()"
   ]
  },
  {
   "cell_type": "markdown",
   "metadata": {},
   "source": [
    "At this point, we might proceed in different ways, based on the required tradeoff between dataset size and dataset quality/completeness. The best way to go depends on the specific problem at hand. For example, if we plan to train a complex Machine Learning model (e.g., a Deep Neural Network) that can handle missing values, we might prefer to keep the dataset as it is to use as many records as possible in the training phase. On the other hand, if we plan to train a simple Machine Learning model (e.g., a Decision Tree), we might prefer to drop the missing values as we do not expect the Machine Learning model to need million data points.  \n",
    "Here, we decide to opt for the highest data quality and completeness, so we keep only records for which all the information is available. "
   ]
  },
  {
   "cell_type": "code",
   "execution_count": null,
   "metadata": {},
   "outputs": [],
   "source": [
    "df_without_na_2 = df_without_na_1.dropna(axis=0,how='any').copy()"
   ]
  },
  {
   "cell_type": "code",
   "execution_count": null,
   "metadata": {},
   "outputs": [],
   "source": [
    "df_without_na_2.shape"
   ]
  },
  {
   "cell_type": "code",
   "execution_count": null,
   "metadata": {
    "scrolled": false
   },
   "outputs": [],
   "source": [
    "df_without_na_2.head()"
   ]
  },
  {
   "cell_type": "code",
   "execution_count": null,
   "metadata": {},
   "outputs": [],
   "source": [
    "n_reviews_without_na_2 = df_without_na_2.shape[0]\n",
    "print('Number of customer reviews in the dataset, excluding all missing values: {:d}'.format(n_reviews_without_na_2))"
   ]
  },
  {
   "cell_type": "code",
   "execution_count": null,
   "metadata": {},
   "outputs": [],
   "source": [
    "f_reviews_without_na_2 = n_reviews_without_na_2/n_reviews\n",
    "print('Fraction of the original dataset: {:f}'.format(f_reviews_without_na_2))"
   ]
  },
  {
   "cell_type": "markdown",
   "metadata": {},
   "source": [
    "## 6 - Overview of the different types of features"
   ]
  },
  {
   "cell_type": "code",
   "execution_count": null,
   "metadata": {},
   "outputs": [],
   "source": [
    "df_without_na_2.dtypes"
   ]
  },
  {
   "cell_type": "markdown",
   "metadata": {},
   "source": [
    "### 6.1 Boolean features"
   ]
  },
  {
   "cell_type": "code",
   "execution_count": null,
   "metadata": {},
   "outputs": [],
   "source": [
    "df_for_training = df_without_na_2.copy()"
   ]
  },
  {
   "cell_type": "code",
   "execution_count": null,
   "metadata": {},
   "outputs": [],
   "source": [
    "df_for_training['is_complete'].unique()"
   ]
  },
  {
   "cell_type": "code",
   "execution_count": null,
   "metadata": {},
   "outputs": [],
   "source": [
    "df_for_training.drop(columns=['is_complete'], inplace=True)"
   ]
  },
  {
   "cell_type": "code",
   "execution_count": null,
   "metadata": {},
   "outputs": [],
   "source": [
    "cols_for_training = df_for_training.columns.to_list()"
   ]
  },
  {
   "cell_type": "code",
   "execution_count": null,
   "metadata": {},
   "outputs": [],
   "source": [
    "feats_bool = ['recommended',\n",
    "              'has_layover']"
   ]
  },
  {
   "cell_type": "markdown",
   "metadata": {},
   "source": [
    "### 6.2 Categorical and numerical features"
   ]
  },
  {
   "cell_type": "code",
   "execution_count": null,
   "metadata": {},
   "outputs": [],
   "source": [
    "feats_cat = ['airline',\n",
    "             'traveller_type',\n",
    "             'cabin','review_text',\n",
    "             'pos_neu_neg_review_score']"
   ]
  },
  {
   "cell_type": "code",
   "execution_count": null,
   "metadata": {},
   "outputs": [],
   "source": [
    "feats_num = [feat for feat in cols_for_training if feat not in feats_bool and feat not in feats_cat]"
   ]
  },
  {
   "cell_type": "markdown",
   "metadata": {},
   "source": [
    "### 6.3 - Summary"
   ]
  },
  {
   "cell_type": "code",
   "execution_count": null,
   "metadata": {},
   "outputs": [],
   "source": [
    "print('Boolean features: \\n{}\\n'.format(feats_bool))\n",
    "print('Categorical features: \\n{}\\n'.format(feats_cat))\n",
    "print('Numerical features: \\n{}\\n'.format(feats_num))"
   ]
  },
  {
   "cell_type": "markdown",
   "metadata": {},
   "source": [
    "## 7 - Correlation matrix for numerical features\n",
    "\n",
    "What is the correlation between numerical features? Can we observe any interesting pattern here?"
   ]
  },
  {
   "cell_type": "code",
   "execution_count": null,
   "metadata": {},
   "outputs": [],
   "source": [
    "corr_values = df_for_training[feats_num].dropna(axis=0,how='any').corr()"
   ]
  },
  {
   "cell_type": "code",
   "execution_count": null,
   "metadata": {},
   "outputs": [],
   "source": [
    "corr_values"
   ]
  },
  {
   "cell_type": "code",
   "execution_count": null,
   "metadata": {
    "scrolled": true
   },
   "outputs": [],
   "source": [
    "plot_cmap.plot_cmap(matrix_values=corr_values, \n",
    "          figsize_w=12, \n",
    "          figsize_h=12, \n",
    "          filename='../Results/01/Corr.png')"
   ]
  },
  {
   "cell_type": "markdown",
   "metadata": {},
   "source": [
    "We observe three main things here:\n",
    "- a positive correlation between the different types of review scores and subscores\n",
    "- a negative correlation between the length of the review text and the value of the different types of review scores and subscores\n",
    "- the similarity between using the number of characters and the number of words, from which we conclude that we can drop one of the two features"
   ]
  },
  {
   "cell_type": "markdown",
   "metadata": {},
   "source": [
    "The correlation of the review subscores with the overall review score gives important indications on which aspects are particularly valued by customers. For example, the review subscore that has the highest correlation with the overall review score is the value for money, while the review subscore that has the lowest correlation with the overall review score is the entertainment. This could suggest that value for money is what customers value, while entertainment is not so critical for a good travel experience. The other review subscores (food and beverage, seat comfort, cabin service and ground service) all have a similar correlation with the overall review score."
   ]
  },
  {
   "cell_type": "code",
   "execution_count": null,
   "metadata": {},
   "outputs": [],
   "source": [
    "df_for_training_small = df_for_training.drop(columns=['review_words']).copy()"
   ]
  },
  {
   "cell_type": "code",
   "execution_count": null,
   "metadata": {},
   "outputs": [],
   "source": [
    "cols_for_training_small = df_for_training_small.columns.to_list()"
   ]
  },
  {
   "cell_type": "code",
   "execution_count": null,
   "metadata": {},
   "outputs": [],
   "source": [
    "feats_num_for_training_small = [feat for feat in cols_for_training_small if feat not in feats_bool and feat not in feats_cat]"
   ]
  },
  {
   "cell_type": "code",
   "execution_count": null,
   "metadata": {},
   "outputs": [],
   "source": [
    "print('Boolean features: \\n{}\\n'.format(feats_bool))\n",
    "print('Categorical features: \\n{}\\n'.format(feats_cat))\n",
    "print('Numerical features: \\n{}\\n'.format(feats_num_for_training_small))"
   ]
  },
  {
   "cell_type": "markdown",
   "metadata": {},
   "source": [
    "## 8 - Distinct values for categorical features"
   ]
  },
  {
   "cell_type": "markdown",
   "metadata": {},
   "source": [
    "How many unique values exist for each feature?"
   ]
  },
  {
   "cell_type": "code",
   "execution_count": null,
   "metadata": {
    "scrolled": true
   },
   "outputs": [],
   "source": [
    "for col in df_for_training_small:\n",
    "    print('Column:', col)\n",
    "    print('Number of unique values:', df_for_training_small[col].nunique())\n",
    "    if (col != 'review_text' and col != 'review_date_date_flown_distance_days' and col != 'review_characters'):\n",
    "        print(df_for_training_small[col].unique())\n",
    "    print('')"
   ]
  },
  {
   "cell_type": "code",
   "execution_count": null,
   "metadata": {
    "scrolled": true
   },
   "outputs": [],
   "source": [
    "for col in df_for_training_small:\n",
    "    print('Column:', col)\n",
    "    print('Number of unique values:', df_for_training_small[col].nunique())\n",
    "    if (col != 'review_text' and col != 'review_date_date_flown_distance_days' and col != 'review_characters'):\n",
    "        print(df_for_training_small.groupby([col]).size().sort_values(ascending=False))\n",
    "    print('')"
   ]
  },
  {
   "cell_type": "code",
   "execution_count": null,
   "metadata": {},
   "outputs": [],
   "source": [
    "# Bar plot of occurrences of each value of each categorical feature.\n",
    "for feat in feats_cat:\n",
    "    if (feat != 'review_text' and feat != 'origin_city' and feat != 'destination_city' and feat != 'layover_city'):\n",
    "        if (feat == 'airline'):\n",
    "            plot_bar.plot_bar(df=df_for_training_small,\n",
    "                              feat=feat,\n",
    "                              filename='../Results/01/CatFeatureValues-'+feat+'.png',\n",
    "                              horizontal=True,\n",
    "                              figsize_w=15,\n",
    "                              figsize_h=15)\n",
    "        else:\n",
    "            plot_bar.plot_bar(df=df_for_training_small,\n",
    "                              feat=feat,\n",
    "                              filename='../Results/01/CatFeatureValues-'+feat+'.png',\n",
    "                              horizontal=True,\n",
    "                              figsize_w=None,\n",
    "                              figsize_h=None)"
   ]
  },
  {
   "cell_type": "markdown",
   "metadata": {},
   "source": [
    "Out of the total number of selected customer reviews (24563):\n",
    "- There are 81 distinct airlines, assuming the same airline does not have different abbreviations or ways to spell their name. The airlines are not equally represented in the dataset. The most represented airline is Cathay Pacific Airways and the least represented airline is QantasLink.\n",
    "- The review dates cover 31 days, 12 months and 5 years, from 2015 to 2019.\n",
    "- The dates flown cover 2 days, 12 months and 7 years, from 2013 to 2019. This means that passengers can submit a review several years after the date flown. Would it make sense to restrict the dataset to customer reviews submitted soon after the date flown? What could be the implications?\n",
    "- There are 22814 distinct review texts but 24563 selected customer reviews. This means that some reviews might be identical. This should be investigated more in detail.\n",
    "- The review score ranges from 1 to 10.\n",
    "- The review subscores range from 1 to 5.\n",
    "- There are 4 distinct traveller types (from the most represented to the least, solo leisure, couple leisure, business and family leisure).\n",
    "- There are 4 distinct cabins (from the most represented to the least, economy class, business class, premium economy and first class)."
   ]
  },
  {
   "cell_type": "markdown",
   "metadata": {},
   "source": [
    "## 9 - Reviews having the same review text\n",
    "\n",
    "We start by counting how many times each review text appears in the dataset. We sort the corresponding dataframe by number of customer reviews, in descending order."
   ]
  },
  {
   "cell_type": "code",
   "execution_count": null,
   "metadata": {},
   "outputs": [],
   "source": [
    "df_same_review_text = df_for_training_small.groupby('review_text')['review_text'].count().reset_index(name='n_reviews').sort_values(by='n_reviews',ascending=False)"
   ]
  },
  {
   "cell_type": "markdown",
   "metadata": {},
   "source": [
    "We select only the review texts that appear more than once in the dataset."
   ]
  },
  {
   "cell_type": "code",
   "execution_count": null,
   "metadata": {},
   "outputs": [],
   "source": [
    "df_same_review_text[df_same_review_text['n_reviews']>1]"
   ]
  },
  {
   "cell_type": "markdown",
   "metadata": {},
   "source": [
    "The first case corresponds to customer reviews for which the customers did not leave any review text. Apart from the missing review text, these seems to be valid customer reviews and there is no apparent reason for discarding them."
   ]
  },
  {
   "cell_type": "code",
   "execution_count": null,
   "metadata": {
    "scrolled": true
   },
   "outputs": [],
   "source": [
    "df_for_training_small[df_for_training_small['review_text']=='']"
   ]
  },
  {
   "cell_type": "markdown",
   "metadata": {},
   "source": [
    "What about the second customer review with duplicated values in the dataset?"
   ]
  },
  {
   "cell_type": "code",
   "execution_count": null,
   "metadata": {},
   "outputs": [],
   "source": [
    "df_for_training_small[df_for_training_small['review_text']==df_same_review_text.loc[5845,:]['review_text']]"
   ]
  },
  {
   "cell_type": "code",
   "execution_count": null,
   "metadata": {},
   "outputs": [],
   "source": [
    "df_for_training_small[df_for_training_small['review_text']==df_same_review_text.loc[5845,:]['review_text']][feats_bool]"
   ]
  },
  {
   "cell_type": "code",
   "execution_count": null,
   "metadata": {},
   "outputs": [],
   "source": [
    "df_for_training_small[df_for_training_small['review_text']==df_same_review_text.loc[5845,:]['review_text']][feats_num_for_training_small]"
   ]
  },
  {
   "cell_type": "code",
   "execution_count": null,
   "metadata": {},
   "outputs": [],
   "source": [
    "df_for_training_small[df_for_training_small['review_text']==df_same_review_text.loc[5845,:]['review_text']][feats_cat]"
   ]
  },
  {
   "cell_type": "markdown",
   "metadata": {},
   "source": [
    "Here it seems that a passenger left multiple customer reviews, identical to each other. These duplicates must be dropped from the dataset before model training, as they do not add any useful information."
   ]
  },
  {
   "cell_type": "code",
   "execution_count": null,
   "metadata": {},
   "outputs": [],
   "source": [
    "df_no_duplicates = df_for_training_small.drop_duplicates().copy()"
   ]
  },
  {
   "cell_type": "code",
   "execution_count": null,
   "metadata": {},
   "outputs": [],
   "source": [
    "n_reviews_no_duplicates = df_no_duplicates.shape[0]\n",
    "print('Number of customer reviews in the dataset, excluding all missing values and dropping duplicates: {:d}'.format(n_reviews_no_duplicates))"
   ]
  },
  {
   "cell_type": "code",
   "execution_count": null,
   "metadata": {},
   "outputs": [],
   "source": [
    "f_reviews_no_duplicates = n_reviews_no_duplicates/n_reviews\n",
    "print('Fraction of the original dataset: {:f}'.format(f_reviews_no_duplicates))"
   ]
  },
  {
   "cell_type": "markdown",
   "metadata": {},
   "source": [
    "## 10 - Distribution of features and uniformity over time"
   ]
  },
  {
   "cell_type": "markdown",
   "metadata": {},
   "source": [
    "### 10.1 - Review score and selection bias\n",
    "\n",
    "What is the distribution of the review score? Are customers with extreme feedback more likely to give their feedback?"
   ]
  },
  {
   "cell_type": "code",
   "execution_count": null,
   "metadata": {},
   "outputs": [],
   "source": [
    "feat = 'review_score'\n",
    "plot_bar.plot_bar(df_no_duplicates,feat,'../Results/01/Bar-'+feat+'.png')"
   ]
  },
  {
   "cell_type": "code",
   "execution_count": null,
   "metadata": {},
   "outputs": [],
   "source": [
    "feat_x = 'recommended'\n",
    "feat_y = 'review_score'\n",
    "plot_grouped_box.plot_grouped_box(df_no_duplicates,feat_x,feat_y,'../Results/01/Box-'+feat_x+'-'+feat_y+'.png')"
   ]
  },
  {
   "cell_type": "code",
   "execution_count": null,
   "metadata": {},
   "outputs": [],
   "source": [
    "feat_x = 'review_score'\n",
    "feat_y = 'traveller_type'\n",
    "plot_grouped_box.plot_grouped_box(df_no_duplicates,feat_x,feat_y,'../Results/01/Box-'+feat_x+'-'+feat_y+'.png')"
   ]
  },
  {
   "cell_type": "code",
   "execution_count": null,
   "metadata": {},
   "outputs": [],
   "source": [
    "feat_x = 'review_score'\n",
    "feat_y = 'cabin'\n",
    "plot_grouped_box.plot_grouped_box(df_no_duplicates,feat_x,feat_y,'../Results/01/Box-'+feat_x+'-'+feat_y+'.png')"
   ]
  },
  {
   "cell_type": "markdown",
   "metadata": {},
   "source": [
    "### 10.2 - Review subscores"
   ]
  },
  {
   "cell_type": "code",
   "execution_count": null,
   "metadata": {},
   "outputs": [],
   "source": [
    "feat = 'seat_comfort'\n",
    "plot_bar.plot_bar(df_no_duplicates,feat,'../Results/01/Bar-'+feat+'.png')"
   ]
  },
  {
   "cell_type": "code",
   "execution_count": null,
   "metadata": {},
   "outputs": [],
   "source": [
    "feat_x = 'seat_comfort'\n",
    "feat_y = 'cabin'\n",
    "plot_grouped_box.plot_grouped_box(df_no_duplicates,feat_x,feat_y,'../Results/01/Box-'+feat_x+'-'+feat_y+'.png')"
   ]
  },
  {
   "cell_type": "code",
   "execution_count": null,
   "metadata": {},
   "outputs": [],
   "source": [
    "feat = 'cabin_service'\n",
    "plot_bar.plot_bar(df_no_duplicates,feat,'../Results/01/Bar-'+feat+'.png')"
   ]
  },
  {
   "cell_type": "code",
   "execution_count": null,
   "metadata": {},
   "outputs": [],
   "source": [
    "feat_x = 'cabin_service'\n",
    "feat_y = 'cabin'\n",
    "plot_grouped_box.plot_grouped_box(df_no_duplicates,feat_x,feat_y,'../Results/01/Box-'+feat_x+'-'+feat_y+'.png')"
   ]
  },
  {
   "cell_type": "code",
   "execution_count": null,
   "metadata": {
    "scrolled": true
   },
   "outputs": [],
   "source": [
    "feat = 'food_bev'\n",
    "plot_bar.plot_bar(df_no_duplicates,feat,'../Results/01/Bar-'+feat+'.png')"
   ]
  },
  {
   "cell_type": "code",
   "execution_count": null,
   "metadata": {},
   "outputs": [],
   "source": [
    "feat_x = 'food_bev'\n",
    "feat_y = 'cabin'\n",
    "plot_grouped_box.plot_grouped_box(df_no_duplicates,feat_x,feat_y,'../Results/01/Box-'+feat_x+'-'+feat_y+'.png')"
   ]
  },
  {
   "cell_type": "code",
   "execution_count": null,
   "metadata": {},
   "outputs": [],
   "source": [
    "feat = 'entertainment'\n",
    "plot_bar.plot_bar(df_no_duplicates,feat,'../Results/01/Bar-'+feat+'.png')"
   ]
  },
  {
   "cell_type": "code",
   "execution_count": null,
   "metadata": {},
   "outputs": [],
   "source": [
    "feat = 'ground_service'\n",
    "plot_bar.plot_bar(df_no_duplicates,feat,'../Results/01/Bar-'+feat+'.png')"
   ]
  },
  {
   "cell_type": "code",
   "execution_count": null,
   "metadata": {},
   "outputs": [],
   "source": [
    "feat = 'value_for_money'\n",
    "plot_bar.plot_bar(df_no_duplicates,feat,'../Results/01/Bar-'+feat+'.png')"
   ]
  },
  {
   "cell_type": "markdown",
   "metadata": {},
   "source": [
    "### 10.3 - Review date"
   ]
  },
  {
   "cell_type": "code",
   "execution_count": null,
   "metadata": {},
   "outputs": [],
   "source": [
    "feat = 'review_date_day'\n",
    "plot_bar.plot_bar(df_no_duplicates,feat,'../Results/01/Bar-'+feat+'.png')"
   ]
  },
  {
   "cell_type": "code",
   "execution_count": null,
   "metadata": {},
   "outputs": [],
   "source": [
    "feat = 'review_date_month'\n",
    "plot_bar.plot_bar(df_no_duplicates,feat,'../Results/01/Bar-'+feat+'.png')"
   ]
  },
  {
   "cell_type": "code",
   "execution_count": null,
   "metadata": {},
   "outputs": [],
   "source": [
    "feat = 'review_date_year'\n",
    "plot_bar.plot_bar(df_no_duplicates,feat,'../Results/01/Bar-'+feat+'.png')"
   ]
  },
  {
   "cell_type": "markdown",
   "metadata": {},
   "source": [
    "### 10.4 - Date flown"
   ]
  },
  {
   "cell_type": "code",
   "execution_count": null,
   "metadata": {},
   "outputs": [],
   "source": [
    "feat = 'date_flown_day'\n",
    "plot_bar.plot_bar(df_no_duplicates,feat,'../Results/01/Bar-'+feat+'.png')"
   ]
  },
  {
   "cell_type": "code",
   "execution_count": null,
   "metadata": {},
   "outputs": [],
   "source": [
    "feat = 'date_flown_month'\n",
    "plot_bar.plot_bar(df_no_duplicates,feat,'../Results/01/Bar-'+feat+'.png')"
   ]
  },
  {
   "cell_type": "code",
   "execution_count": null,
   "metadata": {},
   "outputs": [],
   "source": [
    "feat = 'date_flown_year'\n",
    "plot_bar.plot_bar(df_no_duplicates,feat,'../Results/01/Bar-'+feat+'.png')"
   ]
  },
  {
   "cell_type": "markdown",
   "metadata": {},
   "source": [
    "### 10.5 - Distance in days from date flown to review date"
   ]
  },
  {
   "cell_type": "code",
   "execution_count": null,
   "metadata": {
    "scrolled": true
   },
   "outputs": [],
   "source": [
    "feat = 'review_date_date_flown_distance_days'\n",
    "plot_hist.plot_hist(df=df_no_duplicates,\n",
    "          feat=feat,\n",
    "          bins=100,\n",
    "          x_min=-100,\n",
    "          x_max=400,\n",
    "          filename='../Results/01/Hist-'+feat+'.png')"
   ]
  },
  {
   "cell_type": "markdown",
   "metadata": {},
   "source": [
    "### 10.6 - Length of the review text"
   ]
  },
  {
   "cell_type": "code",
   "execution_count": null,
   "metadata": {},
   "outputs": [],
   "source": [
    "feat = 'review_characters'\n",
    "plot_hist.plot_hist(df=df_no_duplicates,\n",
    "          feat=feat,\n",
    "          bins=30,\n",
    "          filename='../Results/01/Hist-'+feat+'.png')"
   ]
  },
  {
   "cell_type": "markdown",
   "metadata": {},
   "source": [
    "### 10.7 - Recommendation and other Boolean features"
   ]
  },
  {
   "cell_type": "code",
   "execution_count": null,
   "metadata": {},
   "outputs": [],
   "source": [
    "# Histogram of occurrences of each value of each Boolean feature.\n",
    "for feat in feats_bool:\n",
    "    plot_bar.plot_bar(df_no_duplicates,feat,'../Results/01/Bar-'+feat+'.png')"
   ]
  },
  {
   "cell_type": "markdown",
   "metadata": {},
   "source": [
    "### 10.8 - Relationship between recommendation and review score"
   ]
  },
  {
   "cell_type": "code",
   "execution_count": null,
   "metadata": {},
   "outputs": [],
   "source": [
    "df_recommended = df_no_duplicates[df_no_duplicates['recommended']==True].copy()\n",
    "df_not_recommended = df_no_duplicates[df_no_duplicates['recommended']==False].copy()"
   ]
  },
  {
   "cell_type": "code",
   "execution_count": null,
   "metadata": {},
   "outputs": [],
   "source": [
    "plot_two_hists_comp_sns.plot_two_hists_comp_sns(df_1=df_recommended,\n",
    "                                                df_2=df_not_recommended,\n",
    "                                                label_1='Recommended',\n",
    "                                                label_2='Not recommended',\n",
    "                                                feat='review_score',\n",
    "                                                bins=10,\n",
    "                                                title='Distribution of all customer reviews',\n",
    "                                                x_label='Review score',\n",
    "                                                y_label='Entries / bin',\n",
    "                                                filename='../Results/01/HistRecAndNotRec.png'\n",
    "                                               )"
   ]
  },
  {
   "cell_type": "markdown",
   "metadata": {},
   "source": [
    "### 10.9 - Relationship between review score and length of the review text\n",
    "\n",
    "We calculated the length of the review text in terms of number of characters.\n",
    "\n",
    "Positive customer reviews tend to be shorter than negative customer reviews (see mean of the distribution of the number of characters in the customer review). The same trend is observed if using the number of words instead of the number of characters."
   ]
  },
  {
   "cell_type": "code",
   "execution_count": null,
   "metadata": {},
   "outputs": [],
   "source": [
    "plot_two_hists_comp_sns.plot_two_hists_comp_sns(df_1=df_no_duplicates[df_no_duplicates['review_score']<=4],\n",
    "                        df_2=df_no_duplicates[df_no_duplicates['review_score']>=7],\n",
    "                        label_1='review score <= 4',\n",
    "                        label_2='review score >= 7',\n",
    "                        feat='review_characters',\n",
    "                        bins=30,\n",
    "                        title='Distribution of all customer reviews',\n",
    "                        x_label='Number of characters in the customer review',\n",
    "                        y_label='Entries / bin',\n",
    "                        filename='../Results/01/HistReviewCharactersByReviewScore.png')"
   ]
  },
  {
   "cell_type": "markdown",
   "metadata": {},
   "source": [
    "## 11 - Save the dataset"
   ]
  },
  {
   "cell_type": "code",
   "execution_count": null,
   "metadata": {},
   "outputs": [],
   "source": [
    "df_no_duplicates_types = df_no_duplicates.dtypes.to_frame('dtypes').reset_index()"
   ]
  },
  {
   "cell_type": "code",
   "execution_count": null,
   "metadata": {},
   "outputs": [],
   "source": [
    "df_no_duplicates.to_csv('../Results/PreprocessedDataLight.csv')\n",
    "df_no_duplicates_types.to_csv('../Results/PreprocessedDataLightTypes.csv')"
   ]
  },
  {
   "cell_type": "code",
   "execution_count": null,
   "metadata": {},
   "outputs": [],
   "source": []
  }
 ],
 "metadata": {
  "kernelspec": {
   "display_name": "Python 3",
   "language": "python",
   "name": "python3"
  },
  "language_info": {
   "codemirror_mode": {
    "name": "ipython",
    "version": 3
   },
   "file_extension": ".py",
   "mimetype": "text/x-python",
   "name": "python",
   "nbconvert_exporter": "python",
   "pygments_lexer": "ipython3",
   "version": "3.7.6"
  }
 },
 "nbformat": 4,
 "nbformat_minor": 4
}

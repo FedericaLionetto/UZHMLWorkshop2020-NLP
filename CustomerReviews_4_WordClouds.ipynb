{
 "cells": [
  {
   "cell_type": "markdown",
   "metadata": {},
   "source": [
    "# A Machine Learning journey from customer reviews to business insights\n",
    "# *Part 4: Word clouds*\n",
    "\n",
    "*Author: Federica Lionetto*  \n",
    "*Email: federica.lionetto@gmail.com*  \n",
    "*Date: 17 November 2020*  \n",
    "*License: Creative Commons BY-NC-SA*\n",
    "\n",
    "*Based on the dataset available at:*\n",
    "- https://www.kaggle.com/efehandanisman/skytrax-airline-reviews\n",
    "\n",
    "### Further readings\n",
    "\n",
    "- \"Generating WordClouds in Python\", https://www.datacamp.com/community/tutorials/wordcloud-python"
   ]
  },
  {
   "cell_type": "code",
   "execution_count": null,
   "metadata": {},
   "outputs": [],
   "source": [
    "# Needed for Colab.\n",
    "from google.colab import drive\n",
    "drive.mount('/content/drive')"
   ]
  },
  {
   "cell_type": "code",
   "execution_count": null,
   "metadata": {},
   "outputs": [],
   "source": [
    "# Needed for Colab.\n",
    "os.chdir('/content/drive/MyDrive/')\n",
    "# !git clone https://github.com/FedericaLionetto/UZHMLWorkshop2020-NLP\n",
    "os.chdir('UZHMLWorkshop2020-NLP/')"
   ]
  },
  {
   "cell_type": "markdown",
   "metadata": {},
   "source": [
    "## 0 - Configuration"
   ]
  },
  {
   "cell_type": "code",
   "execution_count": null,
   "metadata": {},
   "outputs": [],
   "source": [
    "df_types_filename = '../Results/NLPFinalDataLightTypes.csv'\n",
    "df_filename = '../Results/NLPFinalDataLight.csv'\n",
    "df_preds_filename = '../Results/Preds-WithText.csv'"
   ]
  },
  {
   "cell_type": "markdown",
   "metadata": {},
   "source": [
    "## 1 - Import modules and helper functions"
   ]
  },
  {
   "cell_type": "code",
   "execution_count": null,
   "metadata": {},
   "outputs": [],
   "source": [
    "import numpy as np\n",
    "import pandas as pd\n",
    "import matplotlib.pyplot as plt\n",
    "import seaborn as sns\n",
    "sns.set_palette('Set2')\n",
    "\n",
    "import nltk\n",
    "\n",
    "from wordcloud import WordCloud, STOPWORDS, ImageColorGenerator\n",
    "\n",
    "import os\n",
    "import importlib"
   ]
  },
  {
   "cell_type": "code",
   "execution_count": null,
   "metadata": {},
   "outputs": [],
   "source": [
    "# Debugging capabilities.\n",
    "import pdb"
   ]
  },
  {
   "cell_type": "code",
   "execution_count": null,
   "metadata": {},
   "outputs": [],
   "source": [
    "import sys  \n",
    "sys.path.insert(0, './helper_functions')"
   ]
  },
  {
   "cell_type": "code",
   "execution_count": null,
   "metadata": {},
   "outputs": [],
   "source": [
    "# Related to recommendation.\n",
    "import assign_label_recommended\n",
    "\n",
    "# Related to word clouds.\n",
    "import get_wordcloud\n",
    "import get_df_word_importance\n",
    "\n",
    "# Related to visualization.\n",
    "import plot_word_cloud_diff"
   ]
  },
  {
   "cell_type": "markdown",
   "metadata": {},
   "source": [
    "## 2 - Load the input data"
   ]
  },
  {
   "cell_type": "code",
   "execution_count": null,
   "metadata": {},
   "outputs": [],
   "source": [
    "# Type of each field in the input data.\n",
    "df_dtype = pd.read_csv(df_types_filename)\n",
    "dict_dtype = df_dtype[['index','dtypes']].set_index('index').to_dict()['dtypes']\n",
    "dict_dtype['recommended'] = 'bool'"
   ]
  },
  {
   "cell_type": "code",
   "execution_count": null,
   "metadata": {},
   "outputs": [],
   "source": [
    "# Input data.\n",
    "df = pd.read_csv(df_filename, dtype=dict_dtype, keep_default_na=False, na_values=['_'])\n",
    "df.drop(columns=['Unnamed: 0'],inplace=True)"
   ]
  },
  {
   "cell_type": "code",
   "execution_count": null,
   "metadata": {},
   "outputs": [],
   "source": [
    "# Predictions.\n",
    "df_preds = pd.read_csv(df_preds_filename)\n",
    "df_preds.drop(columns=['Unnamed: 0'],inplace=True)"
   ]
  },
  {
   "cell_type": "code",
   "execution_count": null,
   "metadata": {},
   "outputs": [],
   "source": [
    "df_combined = pd.concat([df,df_preds],axis=1)"
   ]
  },
  {
   "cell_type": "code",
   "execution_count": null,
   "metadata": {},
   "outputs": [],
   "source": [
    "df_combined.head()"
   ]
  },
  {
   "cell_type": "code",
   "execution_count": null,
   "metadata": {},
   "outputs": [],
   "source": [
    "df_combined.shape"
   ]
  },
  {
   "cell_type": "markdown",
   "metadata": {},
   "source": [
    "Get the names of the colums in the dataset."
   ]
  },
  {
   "cell_type": "code",
   "execution_count": null,
   "metadata": {},
   "outputs": [],
   "source": [
    "cols = df_combined.columns.to_list()\n",
    "print('Columns in the dataset:')\n",
    "print(cols)"
   ]
  },
  {
   "cell_type": "markdown",
   "metadata": {},
   "source": [
    "Get the total number of customer reviews in the dataset."
   ]
  },
  {
   "cell_type": "code",
   "execution_count": null,
   "metadata": {},
   "outputs": [],
   "source": [
    "n_reviews = df_combined.shape[0]\n",
    "print('Number of customer reviews in the dataset: {:d}'.format(n_reviews))"
   ]
  },
  {
   "cell_type": "markdown",
   "metadata": {},
   "source": [
    "### 2.1 - Add the label to the dataset"
   ]
  },
  {
   "cell_type": "code",
   "execution_count": null,
   "metadata": {},
   "outputs": [],
   "source": [
    "df_combined['label'] = df_combined.apply(lambda x: assign_label_recommended.assign_label_recommended(x), axis=1)"
   ]
  },
  {
   "cell_type": "code",
   "execution_count": null,
   "metadata": {
    "scrolled": true
   },
   "outputs": [],
   "source": [
    "df_combined.head()"
   ]
  },
  {
   "cell_type": "markdown",
   "metadata": {},
   "source": [
    "## 3 - Word clouds"
   ]
  },
  {
   "cell_type": "markdown",
   "metadata": {},
   "source": [
    "### 3.1 - Define subset for word cloud\n",
    "\n",
    "First scenario: all customer reviews that are predicted to be positive vs. all customer reviews that are predicted to be negative."
   ]
  },
  {
   "cell_type": "code",
   "execution_count": null,
   "metadata": {},
   "outputs": [],
   "source": [
    "review_subscores_feats = ['seat_comfort','cabin_service','food_bev','ground_service','entertainment','value_for_money']\n",
    "sel_feats = review_subscores_feats+['review_text_clean','y_pred','y_prob','label','traveller_type']"
   ]
  },
  {
   "cell_type": "code",
   "execution_count": null,
   "metadata": {},
   "outputs": [],
   "source": [
    "df_pred_rec = df_combined[sel_feats][df_combined['y_prob']>=0.9]\n",
    "df_pred_not_rec = df_combined[sel_feats][df_combined['y_prob']<=0.1]"
   ]
  },
  {
   "cell_type": "code",
   "execution_count": null,
   "metadata": {},
   "outputs": [],
   "source": [
    "print('Number of predicted positive customer reviews: {:d}'.format(df_pred_rec.shape[0]))\n",
    "print('Number of predicted negative customer reviews: {:d}'.format(df_pred_not_rec.shape[0]))"
   ]
  },
  {
   "cell_type": "code",
   "execution_count": null,
   "metadata": {},
   "outputs": [],
   "source": [
    "all_text_pred_rec = \" \".join(review for review in df_pred_rec.review_text_clean)\n",
    "all_text_pred_not_rec = \" \".join(review for review in df_pred_not_rec.review_text_clean)"
   ]
  },
  {
   "cell_type": "markdown",
   "metadata": {},
   "source": [
    "Second scenario: same as above, but for two different types of traveller."
   ]
  },
  {
   "cell_type": "code",
   "execution_count": null,
   "metadata": {},
   "outputs": [],
   "source": [
    "df_combined['traveller_type'].value_counts()"
   ]
  },
  {
   "cell_type": "code",
   "execution_count": null,
   "metadata": {},
   "outputs": [],
   "source": [
    "group_1 = 'Business'\n",
    "group_2 = 'Family Leisure'"
   ]
  },
  {
   "cell_type": "code",
   "execution_count": null,
   "metadata": {},
   "outputs": [],
   "source": [
    "df_pred_rec_group_1 = df_combined[sel_feats][(df_combined['y_prob']>=0.9) & (df_combined['traveller_type']==group_1)]\n",
    "df_pred_rec_group_2 = df_combined[sel_feats][(df_combined['y_prob']>=0.9) & (df_combined['traveller_type']==group_2)]\n",
    "df_pred_not_rec_group_1 = df_combined[sel_feats][(df_combined['y_prob']<=0.1) & (df_combined['traveller_type']==group_1)]\n",
    "df_pred_not_rec_group_2 = df_combined[sel_feats][(df_combined['y_prob']<=0.1) & (df_combined['traveller_type']==group_2)]"
   ]
  },
  {
   "cell_type": "code",
   "execution_count": null,
   "metadata": {},
   "outputs": [],
   "source": [
    "print('Number of predicted positive customer reviews for group 1: {:d}'.format(df_pred_rec_group_1.shape[0]))\n",
    "print('Number of predicted negative customer reviews for group 1: {:d}'.format(df_pred_not_rec_group_1.shape[0]))\n",
    "print('Number of predicted positive customer reviews for group 2: {:d}'.format(df_pred_rec_group_2.shape[0]))\n",
    "print('Number of predicted negative customer reviews for group 2: {:d}'.format(df_pred_not_rec_group_2.shape[0]))"
   ]
  },
  {
   "cell_type": "code",
   "execution_count": null,
   "metadata": {},
   "outputs": [],
   "source": [
    "all_text_pred_rec_group_1 = \" \".join(review for review in df_pred_rec_group_1.review_text_clean)\n",
    "all_text_pred_not_rec_group_1 = \" \".join(review for review in df_pred_not_rec_group_1.review_text_clean)\n",
    "all_text_pred_rec_group_2 = \" \".join(review for review in df_pred_rec_group_2.review_text_clean)\n",
    "all_text_pred_not_rec_group_2 = \" \".join(review for review in df_pred_not_rec_group_2.review_text_clean)"
   ]
  },
  {
   "cell_type": "markdown",
   "metadata": {},
   "source": [
    "### 3.2 - Visualize word cloud"
   ]
  },
  {
   "cell_type": "code",
   "execution_count": null,
   "metadata": {},
   "outputs": [],
   "source": [
    "nltk.download('punkt')"
   ]
  },
  {
   "cell_type": "code",
   "execution_count": null,
   "metadata": {},
   "outputs": [],
   "source": [
    "top_words = 50"
   ]
  },
  {
   "cell_type": "code",
   "execution_count": null,
   "metadata": {},
   "outputs": [],
   "source": [
    "with open('../Results/NLTKStopWordsExtended.csv', 'r') as f:\n",
    "    nltk_stopwords_extended = f.read()\n",
    "nltk_stopwords_extended = nltk_stopwords_extended.split(', ')\n",
    "# print(nltk_stopwords_extended)"
   ]
  },
  {
   "cell_type": "code",
   "execution_count": null,
   "metadata": {},
   "outputs": [],
   "source": [
    "print('Number of stopwords after extension: {:d}'.format(len(nltk_stopwords_extended)))"
   ]
  },
  {
   "cell_type": "code",
   "execution_count": null,
   "metadata": {},
   "outputs": [],
   "source": [
    "# These stopwords are removed from the word clouds only, in order to visualize the factors that drives a positive/negative travel experience.\n",
    "additional_stopwords = ['one',\n",
    "                        'get',\n",
    "                        'also',\n",
    "                        'however',\n",
    "                        'even',\n",
    "                        'make',\n",
    "                        'good',\n",
    "                        'great',\n",
    "                        'well',\n",
    "                        'bad',\n",
    "                        'would',\n",
    "                        'take',\n",
    "                        'use',\n",
    "                        'ife',\n",
    "                        'really',\n",
    "                        'overall',\n",
    "                        'could',\n",
    "                        'much',\n",
    "                        'excellent',\n",
    "                        'though',\n",
    "                        'like',\n",
    "                        'still',\n",
    "                        'although',\n",
    "                        'best',\n",
    "                        'quite',\n",
    "                        'trip',\n",
    "                        'seem',\n",
    "                        'two',\n",
    "                        'go',\n",
    "                        'ba',\n",
    "                        'swiss',\n",
    "                        'never',\n",
    "                        'way',\n",
    "                        'back',\n",
    "                        'zurich',\n",
    "                        'paris',\n",
    "                        'hour',\n",
    "                        'flight',\n",
    "                        'boeing',\n",
    "                        'airbus',\n",
    "                        'lot',\n",
    "                        'old',\n",
    "                        'bit',\n",
    "                        'fly',\n",
    "                        'small',\n",
    "                        'year'\n",
    "                       ]"
   ]
  },
  {
   "cell_type": "code",
   "execution_count": null,
   "metadata": {},
   "outputs": [],
   "source": [
    "all_stopwords = nltk_stopwords_extended+additional_stopwords"
   ]
  },
  {
   "cell_type": "code",
   "execution_count": null,
   "metadata": {},
   "outputs": [],
   "source": [
    "# First scenario.\n",
    "wordcloud_pred_rec = get_wordcloud.get_wordcloud(all_text_pred_rec, max_words=50, stop_words=all_stopwords, filename='../Results/04/WordCloud-PredRec.png')\n",
    "wordcloud_pred_not_rec = get_wordcloud.get_wordcloud(all_text_pred_not_rec, max_words=50, stop_words=all_stopwords, filename='../Results/04/WordCloud-PredNotRec.png')\n",
    "dict_pred_rec = wordcloud_pred_rec.words_\n",
    "dict_pred_not_rec = wordcloud_pred_not_rec.words_"
   ]
  },
  {
   "cell_type": "code",
   "execution_count": null,
   "metadata": {
    "scrolled": false
   },
   "outputs": [],
   "source": [
    "# Second scenario.\n",
    "wordcloud_pred_rec_group_1 = get_wordcloud.get_wordcloud(all_text_pred_rec_group_1, max_words=50, stop_words=all_stopwords, filename='../Results/04/WordCloud-PredRec-Group1.png')\n",
    "wordcloud_pred_not_rec_group_1 = get_wordcloud.get_wordcloud(all_text_pred_not_rec_group_1, max_words=50, stop_words=all_stopwords, filename='../Results/04/WordCloud-PredNotRec-Group1.png')\n",
    "dict_pred_rec_group_1 = wordcloud_pred_rec_group_1.words_\n",
    "dict_pred_not_rec_group_1 = wordcloud_pred_not_rec_group_1.words_\n",
    "\n",
    "wordcloud_pred_rec_group_2 = get_wordcloud.get_wordcloud(all_text_pred_rec_group_2, max_words=50, stop_words=all_stopwords, filename='../Results/04/WordCloud-PredRec-Group2.png')\n",
    "wordcloud_pred_not_rec_group_2 = get_wordcloud.get_wordcloud(all_text_pred_not_rec_group_2, max_words=50, stop_words=all_stopwords, filename='../Results/04/WordCloud-PredNotRec-Group2.png')\n",
    "dict_pred_rec_group_2 = wordcloud_pred_rec_group_2.words_\n",
    "dict_pred_not_rec_group_2 = wordcloud_pred_not_rec_group_2.words_"
   ]
  },
  {
   "cell_type": "code",
   "execution_count": null,
   "metadata": {},
   "outputs": [],
   "source": [
    "dict_pred_rec"
   ]
  },
  {
   "cell_type": "code",
   "execution_count": null,
   "metadata": {},
   "outputs": [],
   "source": [
    "len(list(dict_pred_rec.keys()))"
   ]
  },
  {
   "cell_type": "code",
   "execution_count": null,
   "metadata": {
    "scrolled": true
   },
   "outputs": [],
   "source": [
    "# Comparison between predicted positive and predicted negative.\n",
    "df_wordcloud = get_df_word_importance.get_df_word_importance(dict_1=dict_pred_rec, \n",
    "                                      dict_2=dict_pred_not_rec, \n",
    "                                      label_1='Pred Pos', \n",
    "                                      label_2='Pred Neg')"
   ]
  },
  {
   "cell_type": "code",
   "execution_count": null,
   "metadata": {},
   "outputs": [],
   "source": [
    "# Comparison between predicted positive and predicted positive, for two different origin cities.\n",
    "df_wordcloud_groups_comp_rec = get_df_word_importance.get_df_word_importance(dict_1=dict_pred_rec_group_1, \n",
    "                                                    dict_2=dict_pred_rec_group_2,\n",
    "                                                    label_1='Pred Pos from group 1',\n",
    "                                                    label_2='Pred Pos from group 2')"
   ]
  },
  {
   "cell_type": "code",
   "execution_count": null,
   "metadata": {},
   "outputs": [],
   "source": [
    "# Comparison between predicted negative and predicted negative, for two different origin cities.\n",
    "df_wordcloud_groups_comp_not_rec = get_df_word_importance.get_df_word_importance(dict_1=dict_pred_not_rec_group_1, \n",
    "                                                            dict_2=dict_pred_not_rec_group_2,\n",
    "                                                            label_1='Pred Neg from group 1',\n",
    "                                                            label_2='Pred Neg from group 2')"
   ]
  },
  {
   "cell_type": "code",
   "execution_count": null,
   "metadata": {},
   "outputs": [],
   "source": [
    "# Comparison between predicted positive and predicted negative, for one origin city.\n",
    "df_wordcloud_one_group = get_df_word_importance.get_df_word_importance(dict_1=dict_pred_rec_group_1, \n",
    "                                                  dict_2=dict_pred_not_rec_group_1,\n",
    "                                                  label_1='Pred Pos from group 1',\n",
    "                                                  label_2='Pred Neg from group 1')"
   ]
  },
  {
   "cell_type": "code",
   "execution_count": null,
   "metadata": {},
   "outputs": [],
   "source": [
    "importlib.reload(plot_word_cloud_diff)"
   ]
  },
  {
   "cell_type": "code",
   "execution_count": null,
   "metadata": {},
   "outputs": [],
   "source": [
    "plot_word_cloud_diff.plot_word_cloud_diff(df_sorted=df_wordcloud,\n",
    "                                          label_1='Pred Pos',\n",
    "                                          label_2='Pred Neg',\n",
    "                                          n_top_words=top_words,\n",
    "                                          filename='../Results/04/WordCloudDiff-'+'PredPos'+'-'+'PredNeg'+'.png')"
   ]
  },
  {
   "cell_type": "code",
   "execution_count": null,
   "metadata": {},
   "outputs": [],
   "source": [
    "plot_word_cloud_diff.plot_word_cloud_diff(df_sorted=df_wordcloud_groups_comp_rec, \n",
    "                                          label_1='Pred Pos from group 1',\n",
    "                                          label_2='Pred Pos from group 2',\n",
    "                                          n_top_words=top_words,\n",
    "                                          filename='../Results/04/WordCloudDiff-'+'PredPosGroup1'+'-'+'PredPosGroup2'+'.png')"
   ]
  },
  {
   "cell_type": "code",
   "execution_count": null,
   "metadata": {},
   "outputs": [],
   "source": [
    "plot_word_cloud_diff.plot_word_cloud_diff(df_sorted=df_wordcloud_groups_comp_not_rec,\n",
    "                                          label_1='Pred Neg from group 1', \n",
    "                                          label_2='Pred Neg from group 2',\n",
    "                                          n_top_words=top_words,\n",
    "                                          filename='../Results/04/WordCloudDiff-'+'PredNegGroup1'+'-'+'PredNegGroup2'+'.png')"
   ]
  },
  {
   "cell_type": "markdown",
   "metadata": {},
   "source": [
    "We can cross-check these findings by looking at the review subscores."
   ]
  },
  {
   "cell_type": "code",
   "execution_count": null,
   "metadata": {},
   "outputs": [],
   "source": [
    "df_pred_rec_group_1['entertainment'].describe()"
   ]
  },
  {
   "cell_type": "code",
   "execution_count": null,
   "metadata": {},
   "outputs": [],
   "source": [
    "df_pred_rec_group_2['entertainment'].describe()"
   ]
  },
  {
   "cell_type": "code",
   "execution_count": null,
   "metadata": {},
   "outputs": [],
   "source": []
  }
 ],
 "metadata": {
  "kernelspec": {
   "display_name": "Python 3",
   "language": "python",
   "name": "python3"
  },
  "language_info": {
   "codemirror_mode": {
    "name": "ipython",
    "version": 3
   },
   "file_extension": ".py",
   "mimetype": "text/x-python",
   "name": "python",
   "nbconvert_exporter": "python",
   "pygments_lexer": "ipython3",
   "version": "3.7.6"
  }
 },
 "nbformat": 4,
 "nbformat_minor": 4
}
